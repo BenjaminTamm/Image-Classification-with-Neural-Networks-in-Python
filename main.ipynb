{
 "cells": [
  {
   "cell_type": "code",
   "execution_count": 2,
   "metadata": {},
   "outputs": [],
   "source": [
    "import cv2 as cv\n",
    "import numpy as np\n",
    "import matplotlib.pyplot as plt\n",
    "from tensorflow.keras import datasets, layers, models\n",
    "\n",
    "(training_images, training_labels), (testing_images, testing_labels) = datasets.cifar10.load_data()\n",
    "training_images, testing_images = training_images / 255, testing_images /255\n"
   ]
  },
  {
   "cell_type": "code",
   "execution_count": 4,
   "metadata": {},
   "outputs": [
    {
     "name": "stdout",
     "output_type": "stream",
     "text": [
      "Epoch 1/11\n",
      "625/625 [==============================] - 13s 17ms/step - loss: 1.7697 - accuracy: 0.3408 - val_loss: 1.5375 - val_accuracy: 0.4312\n",
      "Epoch 2/11\n",
      "625/625 [==============================] - 7s 10ms/step - loss: 1.4023 - accuracy: 0.4895 - val_loss: 1.3158 - val_accuracy: 0.5221\n",
      "Epoch 3/11\n",
      "625/625 [==============================] - 6s 10ms/step - loss: 1.2400 - accuracy: 0.5544 - val_loss: 1.2054 - val_accuracy: 0.5634\n",
      "Epoch 4/11\n",
      "625/625 [==============================] - 6s 9ms/step - loss: 1.1265 - accuracy: 0.6030 - val_loss: 1.1269 - val_accuracy: 0.5946\n",
      "Epoch 5/11\n",
      "625/625 [==============================] - 7s 11ms/step - loss: 1.0436 - accuracy: 0.6332 - val_loss: 1.1048 - val_accuracy: 0.6076\n",
      "Epoch 6/11\n",
      "625/625 [==============================] - 6s 10ms/step - loss: 0.9750 - accuracy: 0.6581 - val_loss: 1.2097 - val_accuracy: 0.5882\n",
      "Epoch 7/11\n",
      "625/625 [==============================] - 6s 9ms/step - loss: 0.9100 - accuracy: 0.6794 - val_loss: 1.0367 - val_accuracy: 0.6355\n",
      "Epoch 8/11\n",
      "625/625 [==============================] - 7s 11ms/step - loss: 0.8427 - accuracy: 0.7045 - val_loss: 1.0238 - val_accuracy: 0.6413\n",
      "Epoch 9/11\n",
      "625/625 [==============================] - 6s 9ms/step - loss: 0.7843 - accuracy: 0.7267 - val_loss: 1.0418 - val_accuracy: 0.6444\n",
      "Epoch 10/11\n",
      "625/625 [==============================] - 6s 10ms/step - loss: 0.7363 - accuracy: 0.7431 - val_loss: 1.0605 - val_accuracy: 0.6465\n",
      "Epoch 11/11\n",
      "625/625 [==============================] - 7s 11ms/step - loss: 0.6792 - accuracy: 0.7599 - val_loss: 1.0589 - val_accuracy: 0.6481\n"
     ]
    },
    {
     "data": {
      "text/plain": [
       "<keras.callbacks.History at 0x1cc1808b280>"
      ]
     },
     "execution_count": 4,
     "metadata": {},
     "output_type": "execute_result"
    }
   ],
   "source": [
    "class_names = ['Plane', 'Car', 'Bird', 'Cat', 'Deer', 'Dog', 'Frog', 'Horse', 'Ship', 'Truck']\n",
    "\n",
    "training_images = training_images[:20000]\n",
    "training_labels = training_labels[:20000]\n",
    "testing_images = testing_images[:20000]\n",
    "testing_labels = testing_labels[:20000]\n",
    "\n",
    "model = models.Sequential()\n",
    "model.add(layers.Conv2D(32, (3,3), activation='relu', input_shape=(32, 32, 3)))\n",
    "model.add(layers.MaxPooling2D((2, 2)))\n",
    "model.add(layers.Conv2D(64, (3,3), activation='relu'))\n",
    "model.add(layers.MaxPooling2D((2, 2)))\n",
    "model.add(layers.Conv2D(64, (3,3), activation='relu'))\n",
    "model.add(layers.Flatten())\n",
    "model.add(layers.Dense(64, activation='relu'))\n",
    "model.add(layers.Dense(10, activation='softmax'))\n",
    "\n",
    "model.compile(optimizer='adam', loss='sparse_categorical_crossentropy', metrics=['accuracy'])\n",
    "\n",
    "model.fit(training_images, training_labels, epochs=11, validation_data=(testing_images, testing_labels))"
   ]
  },
  {
   "cell_type": "code",
   "execution_count": 6,
   "metadata": {},
   "outputs": [
    {
     "name": "stdout",
     "output_type": "stream",
     "text": [
      "313/313 [==============================] - 1s 5ms/step - loss: 1.1070 - accuracy: 0.6500\n",
      "Loss:1.1070410013198853\n",
      "Accuracy:0.6499999761581421\n"
     ]
    }
   ],
   "source": [
    "loss, accuracy = model.evaluate(testing_images, testing_labels)\n",
    "print(f\"Loss:{loss}\")\n",
    "print(f\"Accuracy:{accuracy}\")"
   ]
  },
  {
   "cell_type": "code",
   "execution_count": 7,
   "metadata": {},
   "outputs": [
    {
     "name": "stdout",
     "output_type": "stream",
     "text": [
      "INFO:tensorflow:Assets written to: image_classifier.model\\assets\n"
     ]
    }
   ],
   "source": [
    "model.save('image_classifier.model')"
   ]
  },
  {
   "cell_type": "code",
   "execution_count": 9,
   "metadata": {},
   "outputs": [],
   "source": [
    "model = models.load_model('image_classifier.model')"
   ]
  },
  {
   "cell_type": "code",
   "execution_count": null,
   "metadata": {},
   "outputs": [],
   "source": [
    "img = cv.imread('horse.jpg')\n",
    "img = cv.cvtColor(img, cv.COLOR_BGR2RGB)\n",
    "\n",
    "prediction = model.predict(np.array([img]) / 255)\n",
    "index = np.argmax(prediction)\n",
    "print(f'Prediction is {class_names[index]}')"
   ]
  }
 ],
 "metadata": {
  "kernelspec": {
   "display_name": "GPU",
   "language": "python",
   "name": "python3"
  },
  "language_info": {
   "codemirror_mode": {
    "name": "ipython",
    "version": 3
   },
   "file_extension": ".py",
   "mimetype": "text/x-python",
   "name": "python",
   "nbconvert_exporter": "python",
   "pygments_lexer": "ipython3",
   "version": "3.9.15"
  },
  "orig_nbformat": 4,
  "vscode": {
   "interpreter": {
    "hash": "37294b3375844ba0de3692aab0172875a001651b6ca127147ca823f8cae77e58"
   }
  }
 },
 "nbformat": 4,
 "nbformat_minor": 2
}
